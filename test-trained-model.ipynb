{
 "cells": [
  {
   "cell_type": "code",
   "execution_count": 3,
   "metadata": {},
   "outputs": [
    {
     "name": "stdout",
     "output_type": "stream",
     "text": [
      "The autoreload extension is already loaded. To reload it, use:\n",
      "  %reload_ext autoreload\n"
     ]
    },
    {
     "name": "stderr",
     "output_type": "stream",
     "text": [
      "/tmp/ipykernel_9319/1208727999.py:59: FutureWarning: You are using `torch.load` with `weights_only=False` (the current default value), which uses the default pickle module implicitly. It is possible to construct malicious pickle data which will execute arbitrary code during unpickling (See https://github.com/pytorch/pytorch/blob/main/SECURITY.md#untrusted-models for more details). In a future release, the default value for `weights_only` will be flipped to `True`. This limits the functions that could be executed during unpickling. Arbitrary objects will no longer be allowed to be loaded via this mode unless they are explicitly allowlisted by the user via `torch.serialization.add_safe_globals`. We recommend you start setting `weights_only=True` for any use case where you don't have full control of the loaded file. Please open an issue on GitHub for any issues related to this experimental feature.\n",
      "  checkpoint = torch.load(ckpt_path, map_location=device)\n"
     ]
    },
    {
     "data": {
      "text/plain": [
       "<All keys matched successfully>"
      ]
     },
     "execution_count": 3,
     "metadata": {},
     "output_type": "execute_result"
    }
   ],
   "source": [
    "%load_ext autoreload\n",
    "%autoreload 2\n",
    "\n",
    "import os\n",
    "import pickle\n",
    "from contextlib import nullcontext\n",
    "import torch\n",
    "import tiktoken\n",
    "from tqdm import tqdm\n",
    "from torch.nn import functional as F\n",
    "from context_compression.model import GPT, GPTConfig\n",
    "from context_compression.attn import AttentionKind\n",
    "os.environ[\"CUDA_VISIBLE_DEVICES\"] = \"0\"\n",
    "\n",
    "init_from = 'resume' # either 'resume' (from an out_dir) or a gpt2 variant (e.g. 'gpt2-xl')\n",
    "out_dir = 'out' # ignored if init_from is not 'resume'\n",
    "start = \"Hello, I'm a language model,\" # or \"<|endoftext|>\" or etc. Can also specify a file, use as: \"FILE:prompt.txt\"\n",
    "num_samples = 10 # number of samples to draw\n",
    "max_new_tokens = 256 # number of tokens generated in each sample\n",
    "temperature = 0.8 # 1.0 = no change, < 1.0 = less random, > 1.0 = more random, in predictions\n",
    "top_k = 200 # retain only the top_k most likely tokens, clamp others to have 0 probability\n",
    "seed = 1337\n",
    "device = 'cuda' # examples: 'cpu', 'cuda', 'cuda:0', 'cuda:1', etc.\n",
    "dtype = 'bfloat16' if torch.cuda.is_available() and torch.cuda.is_bf16_supported() else 'float16' # 'float32' or 'bfloat16' or 'float16'\n",
    "compile = True # use PyTorch 2.0 to compile the model to be faster\n",
    "\n",
    "torch.manual_seed(seed)\n",
    "torch.cuda.manual_seed(seed)\n",
    "torch.backends.cuda.matmul.allow_tf32 = True # allow tf32 on matmul\n",
    "torch.backends.cudnn.allow_tf32 = True # allow tf32 on cudnn\n",
    "device_type = 'cuda' if 'cuda' in device else 'cpu' # for later use in torch.autocast\n",
    "ptdtype = {'float32': torch.float32, 'bfloat16': torch.bfloat16, 'float16': torch.float16}[dtype]\n",
    "ctx = nullcontext() if device_type == 'cpu' else torch.amp.autocast(device_type=device_type, dtype=ptdtype)\n",
    "\n",
    "# init from a model saved in a specific directory\n",
    "\n",
    "\n",
    "# model = GPT(GPTConfig(attention_kind=AttentionKind.SELECTIVE, for_inference=True, vocab_size=50304))\n",
    "# ckpt_path = \"/workspace/context-compression/selective_run_0_continued/model_09999.pt\"\n",
    "\n",
    "# model = GPT(GPTConfig(attention_kind=AttentionKind.SELECTIVE, for_inference=True, vocab_size=50304))\n",
    "# ckpt_path = \"/workspace/context-compression/selective_run_0_continued/model_09999.pt\"\n",
    "\n",
    "# model = GPT(GPTConfig(attention_kind=AttentionKind.SELECTIVE, for_inference=False, vocab_size=50304))\n",
    "# ckpt_path = \"/workspace/context-compression/memory_loss_run_0/model_09999.pt\"\n",
    "\n",
    "# model = GPT(GPTConfig(attention_kind=AttentionKind.SELF, for_inference=True, vocab_size=50304))\n",
    "# ckpt_path = \"/workspace/context-compression/unselective_run_0/model_09999.pt\"\n",
    "\n",
    "# model = GPT(GPTConfig(attention_kind=AttentionKind.SELECTIVE, for_inference=False, vocab_size=50304))\n",
    "# ckpt_path = \"/root/.cache/huggingface/hub/models--Yorth--selective1/snapshots/1d3d987c90be4b8d6f58de60749ba5823f0ecd29/model.pt\"\n",
    "\n",
    "from huggingface_hub import hf_hub_download\n",
    "config = GPTConfig(attention_kind=AttentionKind.SELECTIVE, for_inference=True, vocab_size=50304,n_head=13)\n",
    "model = GPT(config)\n",
    "ckpt_path = hf_hub_download(repo_id=\"andrew-healey/context-compression\",filename=\"self_to_selective_run_0_restarted/model_02499.pt\")\n",
    "\n",
    "\n",
    "checkpoint = torch.load(ckpt_path, map_location=device)\n",
    "\n",
    "state_dict = checkpoint['model']\n",
    "unwanted_prefix = '_orig_mod.'\n",
    "for k,v in list(state_dict.items()):\n",
    "    if k.startswith(unwanted_prefix):\n",
    "        state_dict[k[len(unwanted_prefix):]] = state_dict.pop(k)\n",
    "model.load_state_dict(state_dict)\n"
   ]
  },
  {
   "cell_type": "code",
   "execution_count": 4,
   "metadata": {},
   "outputs": [],
   "source": [
    "\n",
    "model.eval()\n",
    "model.to(device)\n",
    "if compile:\n",
    "    model = torch.compile(model) # requires PyTorch 2.0 (optional)\n"
   ]
  },
  {
   "cell_type": "code",
   "execution_count": 3,
   "metadata": {},
   "outputs": [
    {
     "name": "stderr",
     "output_type": "stream",
     "text": [
      "100%|██████████| 20/20 [00:01<00:00, 13.83it/s]"
     ]
    },
    {
     "name": "stdout",
     "output_type": "stream",
     "text": [
      "validation loss: 6.3936\n",
      "validation perplexity: 597.9847\n"
     ]
    },
    {
     "name": "stderr",
     "output_type": "stream",
     "text": [
      "\n"
     ]
    }
   ],
   "source": [
    "import numpy as np\n",
    "\n",
    "B = 4 # micro batch size\n",
    "T = 1024\n",
    "\n",
    "from context_compression.data import DataLoaderLite\n",
    "\n",
    "val_loader = DataLoaderLite(B=B, T=T, split=\"val\", process_rank=0, num_processes=1)\n",
    "\n",
    "model.eval()\n",
    "val_loader.reset()\n",
    "with torch.no_grad():\n",
    "    val_loss_accum = 0.0\n",
    "    val_loss_steps = 20\n",
    "    model.transformer.h[0].attn.FF_values = []  # reset FF values list before validation\n",
    "\n",
    "    for i in tqdm(range(val_loss_steps)):\n",
    "        x, y = val_loader.next_batch()\n",
    "        x, y = x.to(device), y.to(device)\n",
    "        with torch.autocast(device_type=device_type, dtype=torch.bfloat16):\n",
    "            logits, loss, losses = model(x, y)\n",
    "        loss = loss / val_loss_steps\n",
    "        val_loss_accum += loss.detach()\n",
    "\n",
    "\n",
    "print(f\"validation loss: {val_loss_accum.item():.4f}\")\n",
    "validation_perplexity = torch.exp(torch.tensor(val_loss_accum.item()))\n",
    "print(f\"validation perplexity: {validation_perplexity:.4f}\")"
   ]
  },
  {
   "cell_type": "code",
   "execution_count": 4,
   "metadata": {},
   "outputs": [
    {
     "name": "stdout",
     "output_type": "stream",
     "text": [
      "Skipping generation\n"
     ]
    }
   ],
   "source": [
    "enc = tiktoken.get_encoding(\"gpt2\")\n",
    "encode = lambda s: enc.encode(s, allowed_special={\"<|endoftext|>\"})\n",
    "decode = lambda l: enc.decode(l)\n",
    "\n",
    "# encode the beginning of the prompt\n",
    "if start.startswith('FILE:'):\n",
    "    with open(start[5:], 'r', encoding='utf-8') as f:\n",
    "        start = f.read()\n",
    "start_ids = encode(start)\n",
    "x = (torch.tensor(start_ids, dtype=torch.long, device=device)[None, ...])\n",
    "\n",
    "generate_samples = False\n",
    "\n",
    "if False:\n",
    "    output_file = \"generated_samples.txt\"\n",
    "    with open(output_file, 'w', encoding='utf-8') as f:\n",
    "        with torch.no_grad():\n",
    "            with ctx:\n",
    "                # for k in range(num_samples):\n",
    "                print(x.shape)\n",
    "                y = model.generate(x.repeat(num_samples, 1), max_new_tokens, temperature=temperature, top_k=top_k)\n",
    "                generated_texts = [decode(y[i].tolist()) for i in range(num_samples)]\n",
    "\n",
    "                # Write to file\n",
    "                for generated_text in generated_texts:\n",
    "                    f.write(generated_text)\n",
    "                    f.write('\\n' + '-' * 80 + '\\n')  # Separator line\n",
    "\n",
    "                # Optional: Also print to console to see progress\n",
    "                print(f\"Generated samples\")\n",
    "\n",
    "    print(f\"\\nGeneration complete. Outputs saved to {output_file}\")\n",
    "else:\n",
    "    print(\"Skipping generation\")"
   ]
  },
  {
   "cell_type": "code",
   "execution_count": null,
   "metadata": {},
   "outputs": [],
   "source": [
    "from context_compression.hellaswag import render_example, iterate_examples\n",
    "from context_compression.data import get_most_likely_row\n",
    "\n",
    "num_correct_norm = 0\n",
    "num_total = 0\n",
    "for i, example in tqdm(enumerate(iterate_examples(\"val\"))):\n",
    "    # render the example into tokens and labels\n",
    "    _, tokens, mask, label = render_example(example)\n",
    "    tokens = tokens.to(device)\n",
    "    mask = mask.to(device)\n",
    "    # get the logits\n",
    "    with torch.no_grad():\n",
    "        with torch.autocast(device_type=device_type, dtype=torch.bfloat16):\n",
    "            logits, loss, losses = model(tokens)\n",
    "        pred_norm = get_most_likely_row(tokens, mask, logits)\n",
    "    num_total += 1\n",
    "    num_correct_norm += int(pred_norm == label)\n",
    "acc_norm = num_correct_norm / num_total\n",
    "print(f\"HellaSwag accuracy: {num_correct_norm}/{num_total}={acc_norm:.4f}\")\n",
    "\n",
    "del logits, loss"
   ]
  },
  {
   "cell_type": "markdown",
   "metadata": {},
   "source": [
    "# Assert that adding a head doesn't destroy the validation loss"
   ]
  },
  {
   "cell_type": "code",
   "execution_count": 13,
   "metadata": {},
   "outputs": [
    {
     "name": "stderr",
     "output_type": "stream",
     "text": [
      "/tmp/ipykernel_2548/1270124871.py:14: FutureWarning: You are using `torch.load` with `weights_only=False` (the current default value), which uses the default pickle module implicitly. It is possible to construct malicious pickle data which will execute arbitrary code during unpickling (See https://github.com/pytorch/pytorch/blob/main/SECURITY.md#untrusted-models for more details). In a future release, the default value for `weights_only` will be flipped to `True`. This limits the functions that could be executed during unpickling. Arbitrary objects will no longer be allowed to be loaded via this mode unless they are explicitly allowlisted by the user via `torch.serialization.add_safe_globals`. We recommend you start setting `weights_only=True` for any use case where you don't have full control of the loaded file. Please open an issue on GitHub for any issues related to this experimental feature.\n",
      "  checkpoint = torch.load(ckpt_path, map_location=device)\n",
      "100%|██████████| 20/20 [00:00<00:00, 24.68it/s]\n"
     ]
    },
    {
     "name": "stdout",
     "output_type": "stream",
     "text": [
      "validation loss: 3.1433\n",
      "validation perplexity: 23.1800\n"
     ]
    }
   ],
   "source": [
    "from context_compression.add_a_head import AddHeadConfig, AddHeadKind, add_a_head\n",
    "\n",
    "# config = GPTConfig(attention_kind=AttentionKind.SELECTIVE, for_inference=False, vocab_size=50304)\n",
    "# model = GPT(config)\n",
    "# ckpt_path = \"/root/.cache/huggingface/hub/models--Yorth--selective1/snapshots/1d3d987c90be4b8d6f58de60749ba5823f0ecd29/model.pt\"\n",
    "\n",
    "config = GPTConfig(attention_kind=AttentionKind.SELECTIVE, for_inference=False, vocab_size=50304)\n",
    "model = GPT(config)\n",
    "ckpt_path = \"/workspace/context-compression/unselective_run_0/model_09999.pt\"\n",
    "\n",
    "add_head_config = AddHeadConfig(add_head_kind=AddHeadKind.GROW_QKV_O, add_head_to_start=True, zero_out_new_head=False)\n",
    "\n",
    "\n",
    "checkpoint = torch.load(ckpt_path, map_location=device)\n",
    "# for k,v in checkpoint['model'].items(): print(k)\n",
    "\n",
    "state_dict = checkpoint['model']\n",
    "unwanted_prefix = '_orig_mod.'\n",
    "for k,v in list(state_dict.items()):\n",
    "    if k.startswith(unwanted_prefix):\n",
    "        state_dict[k[len(unwanted_prefix):]] = state_dict.pop(k)\n",
    "model.load_state_dict(state_dict, strict=False)\n",
    "\n",
    "add_a_head(config, model, add_head_config)\n",
    "\n",
    "model.eval()\n",
    "model.to(device)\n",
    "if compile:\n",
    "    model = torch.compile(model) # requires PyTorch 2.0 (optional)\n",
    "\n",
    "import numpy as np\n",
    "\n",
    "B = 4 # micro batch size\n",
    "T = 1024\n",
    "\n",
    "from context_compression.data import DataLoaderLite\n",
    "\n",
    "val_loader = DataLoaderLite(B=B, T=T, split=\"val\", process_rank=0, num_processes=1)\n",
    "\n",
    "model.eval()\n",
    "val_loader.reset()\n",
    "with torch.no_grad():\n",
    "    val_loss_accum = 0.0\n",
    "    val_loss_steps = 20\n",
    "    model.transformer.h[0].attn.FF_values = []  # reset FF values list before validation\n",
    "\n",
    "    for i in tqdm(range(val_loss_steps)):\n",
    "        x, y = val_loader.next_batch()\n",
    "        x, y = x.to(device), y.to(device)\n",
    "        with torch.autocast(device_type=device_type, dtype=torch.bfloat16):\n",
    "            logits, loss, losses = model(x, y)\n",
    "        loss = loss / val_loss_steps\n",
    "        val_loss_accum += loss.detach()\n",
    "\n",
    "\n",
    "print(f\"validation loss: {val_loss_accum.item():.4f}\")\n",
    "validation_perplexity = torch.exp(torch.tensor(val_loss_accum.item()))\n",
    "print(f\"validation perplexity: {validation_perplexity:.4f}\")"
   ]
  },
  {
   "cell_type": "markdown",
   "metadata": {},
   "source": [
    "# Plot validation loss vs. pruning ratio at 1024 context length"
   ]
  },
  {
   "cell_type": "code",
   "execution_count": 5,
   "metadata": {},
   "outputs": [],
   "source": [
    "import numpy as np\n",
    "from context_compression.data import DataLoaderLite\n",
    "\n",
    "def get_validation_loss_at_diff_ratios(config,ckpt_path,n_ratios=20):\n",
    "    model = GPT(config)\n",
    "\n",
    "    checkpoint = torch.load(ckpt_path, map_location=device)\n",
    "\n",
    "    state_dict = checkpoint['model']\n",
    "    unwanted_prefix = '_orig_mod.'\n",
    "    for k,v in list(state_dict.items()):\n",
    "        if k.startswith(unwanted_prefix):\n",
    "            state_dict[k[len(unwanted_prefix):]] = state_dict.pop(k)\n",
    "    model.load_state_dict(state_dict)\n",
    "\n",
    "    model.eval()\n",
    "    model.to(device)\n",
    "    if compile:\n",
    "        model = torch.compile(model) # requires PyTorch 2.0 (optional)\n",
    "    \n",
    "\n",
    "    B = 4 # micro batch size\n",
    "    T = 1024\n",
    "\n",
    "    val_loader = DataLoaderLite(B=B, T=T, split=\"val\", process_rank=0, num_processes=1)\n",
    "\n",
    "    model.eval()\n",
    "\n",
    "    ratios = np.linspace(0, 1, n_ratios)\n",
    "    losses = []\n",
    "    for ratio in tqdm(ratios):\n",
    "        config.hard_pruning_constant = ratio\n",
    "        val_loader.reset()\n",
    "        with torch.no_grad():\n",
    "            val_loss_accum = 0.0\n",
    "            val_loss_steps = 20\n",
    "            model.transformer.h[0].attn.FF_values = []  # reset FF values list before validation\n",
    "\n",
    "            for i in range(val_loss_steps):\n",
    "                x, y = val_loader.next_batch()\n",
    "                x, y = x.to(device), y.to(device)\n",
    "                with torch.autocast(device_type=device_type, dtype=torch.bfloat16):\n",
    "                    logits, loss, _losses = model(x, y)\n",
    "                loss = loss / val_loss_steps\n",
    "                val_loss_accum += loss.detach()\n",
    "        losses.append(val_loss_accum.item())\n",
    "\n",
    "    return ratios, losses\n"
   ]
  },
  {
   "cell_type": "code",
   "execution_count": 6,
   "metadata": {},
   "outputs": [
    {
     "name": "stderr",
     "output_type": "stream",
     "text": [
      "/tmp/ipykernel_9319/3379321152.py:7: FutureWarning: You are using `torch.load` with `weights_only=False` (the current default value), which uses the default pickle module implicitly. It is possible to construct malicious pickle data which will execute arbitrary code during unpickling (See https://github.com/pytorch/pytorch/blob/main/SECURITY.md#untrusted-models for more details). In a future release, the default value for `weights_only` will be flipped to `True`. This limits the functions that could be executed during unpickling. Arbitrary objects will no longer be allowed to be loaded via this mode unless they are explicitly allowlisted by the user via `torch.serialization.add_safe_globals`. We recommend you start setting `weights_only=True` for any use case where you don't have full control of the loaded file. Please open an issue on GitHub for any issues related to this experimental feature.\n",
      "  checkpoint = torch.load(ckpt_path, map_location=device)\n",
      " 40%|████      | 8/20 [00:23<00:20,  1.72s/it]W0215 00:25:55.246000 9319 site-packages/torch/_dynamo/convert_frame.py:844] [4/8] torch._dynamo hit config.cache_size_limit (8)\n",
      "W0215 00:25:55.246000 9319 site-packages/torch/_dynamo/convert_frame.py:844] [4/8]    function: 'torch_dynamo_resume_in_forward_at_118' (/workspace/context-compression/context_compression/attn.py:118)\n",
      "W0215 00:25:55.246000 9319 site-packages/torch/_dynamo/convert_frame.py:844] [4/8]    last reason: 4/0: L['memory_budget'] == 1                                     \n",
      "W0215 00:25:55.246000 9319 site-packages/torch/_dynamo/convert_frame.py:844] [4/8] To log all recompilation reasons, use TORCH_LOGS=\"recompiles\".\n",
      "W0215 00:25:55.246000 9319 site-packages/torch/_dynamo/convert_frame.py:844] [4/8] To diagnose recompilation issues, see https://pytorch.org/docs/main/torch.compiler_troubleshooting.html.\n",
      "100%|██████████| 20/20 [00:41<00:00,  2.06s/it]\n",
      "/tmp/ipykernel_9319/3379321152.py:7: FutureWarning: You are using `torch.load` with `weights_only=False` (the current default value), which uses the default pickle module implicitly. It is possible to construct malicious pickle data which will execute arbitrary code during unpickling (See https://github.com/pytorch/pytorch/blob/main/SECURITY.md#untrusted-models for more details). In a future release, the default value for `weights_only` will be flipped to `True`. This limits the functions that could be executed during unpickling. Arbitrary objects will no longer be allowed to be loaded via this mode unless they are explicitly allowlisted by the user via `torch.serialization.add_safe_globals`. We recommend you start setting `weights_only=True` for any use case where you don't have full control of the loaded file. Please open an issue on GitHub for any issues related to this experimental feature.\n",
      "  checkpoint = torch.load(ckpt_path, map_location=device)\n",
      "100%|██████████| 20/20 [00:29<00:00,  1.49s/it]\n",
      "100%|██████████| 20/20 [00:29<00:00,  1.49s/it]\n",
      "100%|██████████| 20/20 [00:12<00:00,  1.56it/s]\n",
      "/tmp/ipykernel_9319/3379321152.py:7: FutureWarning: You are using `torch.load` with `weights_only=False` (the current default value), which uses the default pickle module implicitly. It is possible to construct malicious pickle data which will execute arbitrary code during unpickling (See https://github.com/pytorch/pytorch/blob/main/SECURITY.md#untrusted-models for more details). In a future release, the default value for `weights_only` will be flipped to `True`. This limits the functions that could be executed during unpickling. Arbitrary objects will no longer be allowed to be loaded via this mode unless they are explicitly allowlisted by the user via `torch.serialization.add_safe_globals`. We recommend you start setting `weights_only=True` for any use case where you don't have full control of the loaded file. Please open an issue on GitHub for any issues related to this experimental feature.\n",
      "  checkpoint = torch.load(ckpt_path, map_location=device)\n",
      "100%|██████████| 20/20 [00:33<00:00,  1.70s/it]\n",
      "/tmp/ipykernel_9319/3379321152.py:7: FutureWarning: You are using `torch.load` with `weights_only=False` (the current default value), which uses the default pickle module implicitly. It is possible to construct malicious pickle data which will execute arbitrary code during unpickling (See https://github.com/pytorch/pytorch/blob/main/SECURITY.md#untrusted-models for more details). In a future release, the default value for `weights_only` will be flipped to `True`. This limits the functions that could be executed during unpickling. Arbitrary objects will no longer be allowed to be loaded via this mode unless they are explicitly allowlisted by the user via `torch.serialization.add_safe_globals`. We recommend you start setting `weights_only=True` for any use case where you don't have full control of the loaded file. Please open an issue on GitHub for any issues related to this experimental feature.\n",
      "  checkpoint = torch.load(ckpt_path, map_location=device)\n",
      "100%|██████████| 20/20 [00:31<00:00,  1.55s/it]\n"
     ]
    },
    {
     "data": {
      "application/vnd.jupyter.widget-view+json": {
       "model_id": "c1c1a5fb3a514b6698561d5cf2638fd4",
       "version_major": 2,
       "version_minor": 0
      },
      "text/plain": [
       "model_02499.pt:   0%|          | 0.00/558M [00:00<?, ?B/s]"
      ]
     },
     "metadata": {},
     "output_type": "display_data"
    },
    {
     "name": "stderr",
     "output_type": "stream",
     "text": [
      "100%|██████████| 20/20 [00:31<00:00,  1.55s/it]\n"
     ]
    },
    {
     "data": {
      "application/vnd.jupyter.widget-view+json": {
       "model_id": "6e5c23c764c84563b4862cc2de3b6331",
       "version_major": 2,
       "version_minor": 0
      },
      "text/plain": [
       "model_02499.pt:   0%|          | 0.00/558M [00:00<?, ?B/s]"
      ]
     },
     "metadata": {},
     "output_type": "display_data"
    },
    {
     "name": "stderr",
     "output_type": "stream",
     "text": [
      "100%|██████████| 20/20 [00:30<00:00,  1.55s/it]\n",
      "100%|██████████| 20/20 [00:30<00:00,  1.55s/it]\n",
      "100%|██████████| 20/20 [00:30<00:00,  1.55s/it]\n"
     ]
    }
   ],
   "source": [
    "from huggingface_hub import hf_hub_download\n",
    "\n",
    "\n",
    "config = GPTConfig(attention_kind=AttentionKind.SELECTIVE, for_inference=True, vocab_size=50304)\n",
    "ckpt_path = hf_hub_download(repo_id=\"Yorth/selective1\",filename=\"model.pt\")\n",
    "yorth_ratios, yorth_losses = get_validation_loss_at_diff_ratios(config, ckpt_path)\n",
    "\n",
    "config = GPTConfig(attention_kind=AttentionKind.SELECTIVE, for_inference=True, vocab_size=50304)\n",
    "ckpt_path = hf_hub_download(repo_id=\"andrew-healey/context-compression\",filename=\"selective_run_0_continued/model_09999.pt\")\n",
    "selective_ratios, selective_losses = get_validation_loss_at_diff_ratios(config, ckpt_path)\n",
    "\n",
    "config = GPTConfig(attention_kind=AttentionKind.SELECTIVE, for_inference=True, vocab_size=50304)\n",
    "ckpt_path = hf_hub_download(repo_id=\"andrew-healey/context-compression\",filename=\"memory_loss_run_0/model_09999.pt\")\n",
    "memory_loss_ratios, memory_loss_losses = get_validation_loss_at_diff_ratios(config, ckpt_path)\n",
    "\n",
    "config = GPTConfig(attention_kind=AttentionKind.SELF, for_inference=True, vocab_size=50304)\n",
    "ckpt_path = hf_hub_download(repo_id=\"andrew-healey/context-compression\",filename=\"unselective_run_0/model_09999.pt\")\n",
    "unselective_ratios, unselective_losses = get_validation_loss_at_diff_ratios(config, ckpt_path)\n",
    "\n",
    "config = GPTConfig(attention_kind=AttentionKind.SELECTIVE, for_inference=True, vocab_size=50304,n_head=13)\n",
    "ckpt_path = hf_hub_download(repo_id=\"andrew-healey/context-compression\",filename=\"self_to_selective_run_1_restarted_with_memory_penalty/model_02499.pt\")\n",
    "restarted_penalty_oh_point_one = get_validation_loss_at_diff_ratios(config, ckpt_path)\n",
    "\n",
    "config = GPTConfig(attention_kind=AttentionKind.SELECTIVE, for_inference=True, vocab_size=50304,n_head=13)\n",
    "ckpt_path = hf_hub_download(repo_id=\"andrew-healey/context-compression\",filename=\"self_to_selective_run_2_restarted_with_memory_penalty_0.02/model_02499.pt\")\n",
    "restarted_penalty_oh_point_zero_two = get_validation_loss_at_diff_ratios(config, ckpt_path)\n",
    "\n",
    "config = GPTConfig(attention_kind=AttentionKind.SELECTIVE, for_inference=True, vocab_size=50304,n_head=13)\n",
    "ckpt_path = hf_hub_download(repo_id=\"andrew-healey/context-compression\",filename=\"scratch_selective_run_0_memory_penalty_0.1/model_02499.pt\")\n",
    "short_pretrained_ratios_eps_oh_point_one, short_pretrained_losses_eps_oh_point_one = get_validation_loss_at_diff_ratios(config, ckpt_path)\n",
    "\n",
    "config = GPTConfig(attention_kind=AttentionKind.SELECTIVE, for_inference=True, vocab_size=50304,n_head=13)\n",
    "ckpt_path = hf_hub_download(repo_id=\"andrew-healey/context-compression\",filename=\"scratch_selective_run_0_memory_penalty_0.02/model_02499.pt\")\n",
    "short_pretrained_ratios_eps_oh_point_zero_two, short_pretrained_losses_eps_oh_point_zero_two = get_validation_loss_at_diff_ratios(config, ckpt_path)\n",
    "\n",
    "config = GPTConfig(attention_kind=AttentionKind.SELECTIVE, for_inference=True, vocab_size=50304,n_head=13)\n",
    "ckpt_path = hf_hub_download(repo_id=\"andrew-healey/context-compression\",filename=\"scratch_selective_run_0_memory_penalty_0.1/model_02499.pt\")\n",
    "short_pretrained_ratios_eps_oh_point_one, short_pretrained_losses_eps_oh_point_one = get_validation_loss_at_diff_ratios(config, ckpt_path)\n",
    "\n",
    "config = GPTConfig(attention_kind=AttentionKind.SELECTIVE, for_inference=True, vocab_size=50304,n_head=13)\n",
    "ckpt_path = hf_hub_download(repo_id=\"andrew-healey/context-compression\",filename=\"scratch_selective_run_0_memory_penalty_0.02/model_02499.pt\")\n",
    "short_pretrained_ratios_eps_oh_point_zero_two, short_pretrained_losses_eps_oh_point_zero_two = get_validation_loss_at_diff_ratios(config, ckpt_path)\n",
    "\n",
    "\n"
   ]
  },
  {
   "cell_type": "code",
   "execution_count": 10,
   "metadata": {},
   "outputs": [
    {
     "data": {
      "image/png": "[encoded data removed]",
      "text/plain": [
       "<Figure size 640x480 with 1 Axes>"
      ]
     },
     "metadata": {},
     "output_type": "display_data"
    }
   ],
   "source": [
    "import matplotlib.pyplot as plt\n",
    "\n",
    "\n",
    "plt.plot(yorth_ratios, yorth_losses, label='Yorth Model')\n",
    "plt.plot(selective_ratios, selective_losses, label='Selective Model') \n",
    "plt.plot(memory_loss_ratios, memory_loss_losses, label='Memory Loss Model')\n",
    "plt.plot(unselective_ratios, unselective_losses, label='Unselective Model')\n",
    "plt.plot(restarted_penalty_oh_point_one[0], restarted_penalty_oh_point_one[1], label='2.5k steps of CPT, eps=0.1')\n",
    "plt.plot(restarted_penalty_oh_point_zero_two[0], restarted_penalty_oh_point_zero_two[1], label='2.5k steps of CPT, eps=0.02')\n",
    "plt.plot(short_pretrained_ratios_eps_oh_point_one, short_pretrained_losses_eps_oh_point_one, label='2.5k steps of pretraining, eps=0.1')\n",
    "plt.plot(short_pretrained_ratios_eps_oh_point_zero_two, short_pretrained_losses_eps_oh_point_zero_two, label='2.5k steps of pretraining, eps=0.02')\n",
    "plt.ylim(2.95, 3.6)\n",
    "plt.title(\"Validation Loss vs. Pruning Ratio\")\n",
    "plt.xlabel(\"Pruning Ratio\")\n",
    "plt.ylabel(\"Validation Loss\")\n",
    "plt.legend()\n",
    "plt.show()"
   ]
  },
  {
   "cell_type": "code",
   "execution_count": 9,
   "metadata": {},
   "outputs": [
    {
     "data": {
      "text/plain": [
       "[10.55560302734375,\n",
       " 3.5742194652557373,\n",
       " 3.4926371574401855,\n",
       " 3.465636730194092,\n",
       " 3.4539995193481445,\n",
       " 3.4477264881134033,\n",
       " 3.4440481662750244,\n",
       " 3.4415228366851807,\n",
       " 3.440155506134033,\n",
       " 3.439035415649414,\n",
       " 3.4386868476867676,\n",
       " 3.4382896423339844,\n",
       " 3.437892198562622,\n",
       " 3.4377546310424805,\n",
       " 3.437591314315796,\n",
       " 3.4377050399780273,\n",
       " 3.437659978866577,\n",
       " 3.4376089572906494,\n",
       " 3.4375786781311035,\n",
       " 3.437588930130005]"
      ]
     },
     "execution_count": 9,
     "metadata": {},
     "output_type": "execute_result"
    }
   ],
   "source": [
    "short_pretrained_losses_eps_oh_point_zero_two"
   ]
  }
 ],
 "metadata": {
  "kernelspec": {
   "display_name": "base",
   "language": "python",
   "name": "python3"
  },
  "language_info": {
   "codemirror_mode": {
    "name": "ipython",
    "version": 3
   },
   "file_extension": ".py",
   "mimetype": "text/x-python",
   "name": "python",
   "nbconvert_exporter": "python",
   "pygments_lexer": "ipython3",
   "version": "3.11.10"
  }
 },
 "nbformat": 4,
 "nbformat_minor": 2
}
