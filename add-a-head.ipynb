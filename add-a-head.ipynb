{
 "cells": [
  {
   "cell_type": "code",
   "execution_count": 1,
   "metadata": {},
   "outputs": [],
   "source": [
    "%load_ext autoreload\n",
    "%autoreload 2\n",
    "\n",
    "import os\n",
    "import pickle\n",
    "from contextlib import nullcontext\n",
    "import torch\n",
    "import tiktoken\n",
    "from tqdm import tqdm\n",
    "from torch.nn import functional as F\n",
    "from context_compression.model import GPT, GPTConfig\n",
    "from context_compression.attn import AttentionKind\n",
    "os.environ[\"CUDA_VISIBLE_DEVICES\"] = \"0\"\n",
    "\n",
    "init_from = 'resume' # either 'resume' (from an out_dir) or a gpt2 variant (e.g. 'gpt2-xl')\n",
    "out_dir = 'out' # ignored if init_from is not 'resume'\n",
    "start = \"Hello, I'm a language model,\" # or \"<|endoftext|>\" or etc. Can also specify a file, use as: \"FILE:prompt.txt\"\n",
    "num_samples = 10 # number of samples to draw\n",
    "max_new_tokens = 256 # number of tokens generated in each sample\n",
    "temperature = 0.8 # 1.0 = no change, < 1.0 = less random, > 1.0 = more random, in predictions\n",
    "top_k = 200 # retain only the top_k most likely tokens, clamp others to have 0 probability\n",
    "seed = 1337\n",
    "device = 'cuda' # examples: 'cpu', 'cuda', 'cuda:0', 'cuda:1', etc.\n",
    "dtype = 'bfloat16' if torch.cuda.is_available() and torch.cuda.is_bf16_supported() else 'float16' # 'float32' or 'bfloat16' or 'float16'\n",
    "compile = False # use PyTorch 2.0 to compile the model to be faster\n",
    "\n",
    "torch.manual_seed(seed)\n",
    "torch.cuda.manual_seed(seed)\n",
    "torch.backends.cuda.matmul.allow_tf32 = True # allow tf32 on matmul\n",
    "torch.backends.cudnn.allow_tf32 = True # allow tf32 on cudnn\n",
    "device_type = 'cuda' if 'cuda' in device else 'cpu' # for later use in torch.autocast\n",
    "ptdtype = {'float32': torch.float32, 'bfloat16': torch.bfloat16, 'float16': torch.float16}[dtype]\n",
    "ctx = nullcontext() if device_type == 'cpu' else torch.amp.autocast(device_type=device_type, dtype=ptdtype)\n"
   ]
  },
  {
   "cell_type": "code",
   "execution_count": 5,
   "metadata": {},
   "outputs": [
    {
     "name": "stderr",
     "output_type": "stream",
     "text": [
      "/tmp/ipykernel_16449/922948136.py:21: FutureWarning: You are using `torch.load` with `weights_only=False` (the current default value), which uses the default pickle module implicitly. It is possible to construct malicious pickle data which will execute arbitrary code during unpickling (See https://github.com/pytorch/pytorch/blob/main/SECURITY.md#untrusted-models for more details). In a future release, the default value for `weights_only` will be flipped to `True`. This limits the functions that could be executed during unpickling. Arbitrary objects will no longer be allowed to be loaded via this mode unless they are explicitly allowlisted by the user via `torch.serialization.add_safe_globals`. We recommend you start setting `weights_only=True` for any use case where you don't have full control of the loaded file. Please open an issue on GitHub for any issues related to this experimental feature.\n",
      "  checkpoint = torch.load(ckpt_path, map_location=device)\n"
     ]
    }
   ],
   "source": [
    "# init from a model saved in a specific directory\n",
    "\n",
    "# model = GPT(GPTConfig(attention_kind=AttentionKind.SELECTIVE, for_inference=True, vocab_size=50304))\n",
    "# ckpt_path = \"/workspace/context-compression/selective_run_0_continued/model_09999.pt\"\n",
    "\n",
    "# model = GPT(GPTConfig(attention_kind=AttentionKind.SELECTIVE, for_inference=True, vocab_size=50304))\n",
    "# ckpt_path = \"/workspace/context-compression/selective_run_0_continued/model_09999.pt\"\n",
    "\n",
    "# model = GPT(GPTConfig(attention_kind=AttentionKind.SELECTIVE, for_inference=False, vocab_size=50304))\n",
    "# ckpt_path = \"/workspace/context-compression/memory_loss_run_0/model_09999.pt\"\n",
    "\n",
    "# config = GPTConfig(attention_kind=AttentionKind.SELF, for_inference=True, vocab_size=50304)\n",
    "# model = GPT(config)\n",
    "# ckpt_path = \"/workspace/context-compression/unselective_run_0/model_09999.pt\"\n",
    "\n",
    "config = GPTConfig(attention_kind=AttentionKind.SELECTIVE, for_inference=False, vocab_size=50304)\n",
    "model = GPT(config)\n",
    "ckpt_path = \"/root/.cache/huggingface/hub/models--Yorth--selective1/snapshots/1d3d987c90be4b8d6f58de60749ba5823f0ecd29/model.pt\"\n",
    "\n",
    "\n",
    "checkpoint = torch.load(ckpt_path, map_location=device)\n",
    "\n",
    "state_dict = checkpoint['model']\n",
    "unwanted_prefix = '_orig_mod.'\n",
    "for k,v in list(state_dict.items()):\n",
    "    if k.startswith(unwanted_prefix):\n",
    "        state_dict[k[len(unwanted_prefix):]] = state_dict.pop(k)\n",
    "model.load_state_dict(state_dict)\n",
    "\n",
    "from context_compression.add_a_head import grow_qkv_o\n",
    "\n",
    "add_a_head = False\n",
    "if add_a_head:\n",
    "    grow_qkv_o(config,model)\n",
    "\n",
    "\n",
    "model.eval()\n",
    "model.to(device)\n",
    "if compile:\n",
    "    model = torch.compile(model) # requires PyTorch 2.0 (optional)"
   ]
  },
  {
   "cell_type": "code",
   "execution_count": 6,
   "metadata": {},
   "outputs": [
    {
     "data": {
      "text/plain": [
       "(tensor([[[  2.8258,   2.2109,  -2.9415,  ...,  -8.3719,  -8.6030,  -8.4726],\n",
       "          [ -0.9571,   3.3208,   2.1000,  ...,  -3.8942,  -3.8509,  -3.5520],\n",
       "          [  3.5440,   3.7722,   2.2224,  ..., -10.9395, -11.3086, -10.3937],\n",
       "          ...,\n",
       "          [  4.6336,   2.8386,   4.9399,  ...,  -9.1376,  -9.3667,  -8.7789],\n",
       "          [  4.4314,   2.1704,   3.7883,  ..., -10.3590, -10.7607, -10.1031],\n",
       "          [  4.5444,   2.6262,   4.1197,  ..., -10.6649, -10.9120, -10.2389]],\n",
       " \n",
       "         [[  1.5417,   2.7827,   0.1449,  ...,  -9.6983, -10.0805,  -9.5776],\n",
       "          [  1.9891,   2.7411,   0.0883,  ..., -11.1865, -11.6592, -11.0090],\n",
       "          [  3.0581,   2.4795,   0.0610,  ..., -10.9167, -11.3798, -10.8770],\n",
       "          ...,\n",
       "          [ -1.2146,   2.0913,  -0.0435,  ...,   2.2149,   2.0899,   1.7990],\n",
       "          [  5.9899,   4.2384,   3.8320,  ...,  -5.3356,  -5.8125,  -5.2999],\n",
       "          [ -0.0913,   2.3449,   0.9392,  ...,  -1.0786,  -1.2305,  -0.5390]],\n",
       " \n",
       "         [[  3.3563,   2.5151,  -2.6115,  ...,  -8.2683,  -8.5159,  -8.4007],\n",
       "          [ -1.0749,   3.8630,   2.3008,  ...,  -2.9728,  -3.0128,  -2.3687],\n",
       "          [  4.2494,   4.2829,   6.4931,  ..., -10.0691, -10.3155,  -9.8371],\n",
       "          ...,\n",
       "          [  6.8727,   2.6372,   4.1105,  ...,  -9.5541,  -9.9966,  -9.6078],\n",
       "          [  4.5168,   3.1511,   4.0473,  ..., -11.3189, -11.9214, -11.1730],\n",
       "          [  3.7663,   2.0568,   1.8556,  ..., -14.0310, -14.5973, -13.7020]],\n",
       " \n",
       "         [[ -0.0462,   2.2047,  -1.0755,  ..., -12.9504, -12.9756, -12.8820],\n",
       "          [  2.2600,   2.6737,   0.5565,  ..., -11.7472, -11.4519, -11.1361],\n",
       "          [  3.5307,   4.1550,   2.6862,  ..., -11.6220, -11.9950, -11.5415],\n",
       "          ...,\n",
       "          [  7.1319,   3.9645,   4.9094,  ...,  -8.4808,  -8.6935,  -8.7333],\n",
       "          [  7.1331,   5.8972,   4.3458,  ...,  -9.0992,  -9.4147,  -9.2182],\n",
       "          [  9.3214,   3.9624,   5.2022,  ...,  -4.7631,  -5.2803,  -5.1958]]],\n",
       "        device='cuda:0', grad_fn=<UnsafeViewBackward0>),\n",
       " None)"
      ]
     },
     "execution_count": 6,
     "metadata": {},
     "output_type": "execute_result"
    }
   ],
   "source": [
    "x = torch.randint(0,200, (4,20),device=device).int()\n",
    "# print(x)\n",
    "model(x)"
   ]
  },
  {
   "cell_type": "code",
   "execution_count": null,
   "metadata": {},
   "outputs": [],
   "source": []
  }
 ],
 "metadata": {
  "kernelspec": {
   "display_name": "Python 3",
   "language": "python",
   "name": "python3"
  },
  "language_info": {
   "codemirror_mode": {
    "name": "ipython",
    "version": 3
   },
   "file_extension": ".py",
   "mimetype": "text/x-python",
   "name": "python",
   "nbconvert_exporter": "python",
   "pygments_lexer": "ipython3",
   "version": "3.11.6"
  }
 },
 "nbformat": 4,
 "nbformat_minor": 2
}
