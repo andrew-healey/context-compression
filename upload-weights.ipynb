{
 "cells": [
  {
   "cell_type": "code",
   "execution_count": 1,
   "metadata": {},
   "outputs": [
    {
     "data": {
      "application/vnd.jupyter.widget-view+json": {
       "model_id": "9c3760305cf441108b107c21311b1a0e",
       "version_major": 2,
       "version_minor": 0
      },
      "text/plain": [
       "VBox(children=(HTML(value='<center> <img\\nsrc=https://huggingface.co/front/assets/huggingface_logo-noborder.sv…"
      ]
     },
     "metadata": {},
     "output_type": "display_data"
    },
    {
     "name": "stderr",
     "output_type": "stream",
     "text": [
      "No files have been modified since last commit. Skipping to prevent empty commit.\n",
      "No files have been modified since last commit. Skipping to prevent empty commit.\n",
      "No files have been modified since last commit. Skipping to prevent empty commit.\n",
      "No files have been modified since last commit. Skipping to prevent empty commit.\n"
     ]
    },
    {
     "data": {
      "application/vnd.jupyter.widget-view+json": {
       "model_id": "5655e8fa3d024a85965ad9f3232ec607",
       "version_major": 2,
       "version_minor": 0
      },
      "text/plain": [
       "model_07500.pt:   0%|          | 0.00/498M [00:00<?, ?B/s]"
      ]
     },
     "metadata": {},
     "output_type": "display_data"
    },
    {
     "data": {
      "application/vnd.jupyter.widget-view+json": {
       "model_id": "dd3f57b31dbf4df7ab526ebce3201bf1",
       "version_major": 2,
       "version_minor": 0
      },
      "text/plain": [
       "dataloader_07500.pt:   0%|          | 0.00/964 [00:00<?, ?B/s]"
      ]
     },
     "metadata": {},
     "output_type": "display_data"
    },
    {
     "data": {
      "application/vnd.jupyter.widget-view+json": {
       "model_id": "92dffe0b14ad40539da7fa33bf14e90b",
       "version_major": 2,
       "version_minor": 0
      },
      "text/plain": [
       "optimizer_07500.pt:   0%|          | 0.00/996M [00:00<?, ?B/s]"
      ]
     },
     "metadata": {},
     "output_type": "display_data"
    },
    {
     "name": "stderr",
     "output_type": "stream",
     "text": [
      "No files have been modified since last commit. Skipping to prevent empty commit.\n"
     ]
    },
    {
     "data": {
      "application/vnd.jupyter.widget-view+json": {
       "model_id": "35dd53ef3ca6438aa7f487d712aaf131",
       "version_major": 2,
       "version_minor": 0
      },
      "text/plain": [
       "model_05000.pt:   0%|          | 0.00/498M [00:00<?, ?B/s]"
      ]
     },
     "metadata": {},
     "output_type": "display_data"
    },
    {
     "data": {
      "application/vnd.jupyter.widget-view+json": {
       "model_id": "2dd701e9a5b14ca2b57a431965b98440",
       "version_major": 2,
       "version_minor": 0
      },
      "text/plain": [
       "optimizer_05000.pt:   0%|          | 0.00/996M [00:00<?, ?B/s]"
      ]
     },
     "metadata": {},
     "output_type": "display_data"
    },
    {
     "name": "stderr",
     "output_type": "stream",
     "text": [
      "No files have been modified since last commit. Skipping to prevent empty commit.\n"
     ]
    },
    {
     "data": {
      "application/vnd.jupyter.widget-view+json": {
       "model_id": "ce1595a96797465caccd61806d8d6731",
       "version_major": 2,
       "version_minor": 0
      },
      "text/plain": [
       "model_02500.pt:   0%|          | 0.00/498M [00:00<?, ?B/s]"
      ]
     },
     "metadata": {},
     "output_type": "display_data"
    },
    {
     "data": {
      "application/vnd.jupyter.widget-view+json": {
       "model_id": "da6eb1f1cb1546ef824f9d5a2ff4da9a",
       "version_major": 2,
       "version_minor": 0
      },
      "text/plain": [
       "dataloader_02500.pt:   0%|          | 0.00/964 [00:00<?, ?B/s]"
      ]
     },
     "metadata": {},
     "output_type": "display_data"
    },
    {
     "data": {
      "application/vnd.jupyter.widget-view+json": {
       "model_id": "2521190216274a07af00639596afaa70",
       "version_major": 2,
       "version_minor": 0
      },
      "text/plain": [
       "optimizer_02500.pt:   0%|          | 0.00/996M [00:00<?, ?B/s]"
      ]
     },
     "metadata": {},
     "output_type": "display_data"
    },
    {
     "name": "stderr",
     "output_type": "stream",
     "text": [
      "No files have been modified since last commit. Skipping to prevent empty commit.\n"
     ]
    },
    {
     "data": {
      "application/vnd.jupyter.widget-view+json": {
       "model_id": "9dbdcab944d54e03982fc11d32889774",
       "version_major": 2,
       "version_minor": 0
      },
      "text/plain": [
       "model_02500.pt:   0%|          | 0.00/548M [00:00<?, ?B/s]"
      ]
     },
     "metadata": {},
     "output_type": "display_data"
    },
    {
     "data": {
      "application/vnd.jupyter.widget-view+json": {
       "model_id": "c6c224e7db514321851e3f1156aeda81",
       "version_major": 2,
       "version_minor": 0
      },
      "text/plain": [
       "optimizer_02500.pt:   0%|          | 0.00/996M [00:00<?, ?B/s]"
      ]
     },
     "metadata": {},
     "output_type": "display_data"
    },
    {
     "name": "stderr",
     "output_type": "stream",
     "text": [
      "No files have been modified since last commit. Skipping to prevent empty commit.\n",
      "No files have been modified since last commit. Skipping to prevent empty commit.\n",
      "No files have been modified since last commit. Skipping to prevent empty commit.\n",
      "No files have been modified since last commit. Skipping to prevent empty commit.\n",
      "No files have been modified since last commit. Skipping to prevent empty commit.\n",
      "No files have been modified since last commit. Skipping to prevent empty commit.\n",
      "No files have been modified since last commit. Skipping to prevent empty commit.\n",
      "No files have been modified since last commit. Skipping to prevent empty commit.\n",
      "No files have been modified since last commit. Skipping to prevent empty commit.\n"
     ]
    },
    {
     "data": {
      "application/vnd.jupyter.widget-view+json": {
       "model_id": "7e1af34d2954407dbdf1478e1bdf702f",
       "version_major": 2,
       "version_minor": 0
      },
      "text/plain": [
       "model_07500.pt:   0%|          | 0.00/548M [00:00<?, ?B/s]"
      ]
     },
     "metadata": {},
     "output_type": "display_data"
    },
    {
     "data": {
      "application/vnd.jupyter.widget-view+json": {
       "model_id": "3ac7332ef7bd4798a32872bae2f70ec6",
       "version_major": 2,
       "version_minor": 0
      },
      "text/plain": [
       "optimizer_07500.pt:   0%|          | 0.00/996M [00:00<?, ?B/s]"
      ]
     },
     "metadata": {},
     "output_type": "display_data"
    },
    {
     "name": "stderr",
     "output_type": "stream",
     "text": [
      "No files have been modified since last commit. Skipping to prevent empty commit.\n",
      "No files have been modified since last commit. Skipping to prevent empty commit.\n",
      "No files have been modified since last commit. Skipping to prevent empty commit.\n",
      "No files have been modified since last commit. Skipping to prevent empty commit.\n",
      "No files have been modified since last commit. Skipping to prevent empty commit.\n"
     ]
    },
    {
     "data": {
      "application/vnd.jupyter.widget-view+json": {
       "model_id": "bdfbdacfbb8649679e6c7398f7e150f6",
       "version_major": 2,
       "version_minor": 0
      },
      "text/plain": [
       "model_07500.pt:   0%|          | 0.00/548M [00:00<?, ?B/s]"
      ]
     },
     "metadata": {},
     "output_type": "display_data"
    },
    {
     "data": {
      "application/vnd.jupyter.widget-view+json": {
       "model_id": "a8de95f054fc49cd9d84e1c2606b9157",
       "version_major": 2,
       "version_minor": 0
      },
      "text/plain": [
       "optimizer_07500.pt:   0%|          | 0.00/996M [00:00<?, ?B/s]"
      ]
     },
     "metadata": {},
     "output_type": "display_data"
    },
    {
     "name": "stderr",
     "output_type": "stream",
     "text": [
      "No files have been modified since last commit. Skipping to prevent empty commit.\n"
     ]
    },
    {
     "data": {
      "application/vnd.jupyter.widget-view+json": {
       "model_id": "6e1258efab8349068e98a9d64301b894",
       "version_major": 2,
       "version_minor": 0
      },
      "text/plain": [
       "model_05000.pt:   0%|          | 0.00/548M [00:00<?, ?B/s]"
      ]
     },
     "metadata": {},
     "output_type": "display_data"
    },
    {
     "data": {
      "application/vnd.jupyter.widget-view+json": {
       "model_id": "6ae4740b239e476ca3e84f981665b6b1",
       "version_major": 2,
       "version_minor": 0
      },
      "text/plain": [
       "optimizer_05000.pt:   0%|          | 0.00/996M [00:00<?, ?B/s]"
      ]
     },
     "metadata": {},
     "output_type": "display_data"
    },
    {
     "name": "stderr",
     "output_type": "stream",
     "text": [
      "No files have been modified since last commit. Skipping to prevent empty commit.\n"
     ]
    },
    {
     "data": {
      "application/vnd.jupyter.widget-view+json": {
       "model_id": "b0c3023fe2424e3b92a4395383e6e0d3",
       "version_major": 2,
       "version_minor": 0
      },
      "text/plain": [
       "model_02500.pt:   0%|          | 0.00/548M [00:00<?, ?B/s]"
      ]
     },
     "metadata": {},
     "output_type": "display_data"
    },
    {
     "data": {
      "application/vnd.jupyter.widget-view+json": {
       "model_id": "7d9750b3fd8f4c96bed4dcc5aa734bb8",
       "version_major": 2,
       "version_minor": 0
      },
      "text/plain": [
       "optimizer_02500.pt:   0%|          | 0.00/996M [00:00<?, ?B/s]"
      ]
     },
     "metadata": {},
     "output_type": "display_data"
    },
    {
     "name": "stderr",
     "output_type": "stream",
     "text": [
      "No files have been modified since last commit. Skipping to prevent empty commit.\n"
     ]
    }
   ],
   "source": [
    "from huggingface_hub import HfApi, login\n",
    "\n",
    "# Login to Hugging Face (you'll need an access token)\n",
    "login()  # You can also use login(token=\"your_token_here\")\n",
    "\n",
    "# Initialize the API\n",
    "api = HfApi()\n",
    "\n",
    "for model_pt_path in [\n",
    "    \"unselective_run_0/model_09999.pt\",\n",
    "    \"unselective_run_0/model_07500.pt\",\n",
    "    \"unselective_run_0/model_05000.pt\",\n",
    "    \"unselective_run_0/model_02500.pt\",\n",
    "    \"selective_run_0/model_02500.pt\",\n",
    "    \"selective_run_0/model_05000.pt\",\n",
    "    \"selective_run_0_continued/model_09999.pt\",\n",
    "    \"selective_run_0_continued/model_07500.pt\",\n",
    "    \"memory_loss_run_0/model_09999.pt\",\n",
    "    \"memory_loss_run_0/model_07500.pt\",\n",
    "    \"memory_loss_run_0/model_05000.pt\",\n",
    "    \"memory_loss_run_0/model_02500.pt\",\n",
    "]:\n",
    "\n",
    "    dirname = \"/\".join(model_pt_path.split(\"/\")[:-1])\n",
    "    file_paths = [\n",
    "        model_pt_path,\n",
    "        model_pt_path.replace(\"model\", \"dataloader\"),\n",
    "        model_pt_path.replace(\"model\", \"optimizer\"),\n",
    "        dirname+\"/log2.txt\"\n",
    "    ]\n",
    "    for file_path in file_paths:\n",
    "        api.upload_file(\n",
    "            path_or_fileobj=file_path,    # Local path to your .pt file\n",
    "            path_in_repo=file_path,                      # Desired path in the repo\n",
    "            repo_id=\"andrew-healey/context-compression\",       # Format: username/repo-name\n",
    "            repo_type=\"model\",                            # Can be 'model', 'dataset', or 'space'\n",
    "        )"
   ]
  }
 ],
 "metadata": {
  "kernelspec": {
   "display_name": "Python 3",
   "language": "python",
   "name": "python3"
  },
  "language_info": {
   "codemirror_mode": {
    "name": "ipython",
    "version": 3
   },
   "file_extension": ".py",
   "mimetype": "text/x-python",
   "name": "python",
   "nbconvert_exporter": "python",
   "pygments_lexer": "ipython3",
   "version": "3.11.6"
  }
 },
 "nbformat": 4,
 "nbformat_minor": 2
}
