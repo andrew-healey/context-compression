{
 "cells": [
  {
   "cell_type": "code",
   "execution_count": 5,
   "metadata": {},
   "outputs": [
    {
     "data": {
      "application/vnd.jupyter.widget-view+json": {
       "model_id": "68708a5f833d4d56b877a9b59771e19c",
       "version_major": 2,
       "version_minor": 0
      },
      "text/plain": [
       "VBox(children=(HTML(value='<center> <img\\nsrc=https://huggingface.co/front/assets/huggingface_logo-noborder.sv…"
      ]
     },
     "metadata": {},
     "output_type": "display_data"
    },
    {
     "name": "stderr",
     "output_type": "stream",
     "text": [
      "No files have been modified since last commit. Skipping to prevent empty commit.\n"
     ]
    },
    {
     "data": {
      "application/vnd.jupyter.widget-view+json": {
       "model_id": "425edcd519914fefb8e74933b4e662d4",
       "version_major": 2,
       "version_minor": 0
      },
      "text/plain": [
       "dataloader_09999.pt:   0%|          | 0.00/964 [00:00<?, ?B/s]"
      ]
     },
     "metadata": {},
     "output_type": "display_data"
    },
    {
     "data": {
      "application/vnd.jupyter.widget-view+json": {
       "model_id": "dc6ff9cb50ae40379216cf8bc45a19f3",
       "version_major": 2,
       "version_minor": 0
      },
      "text/plain": [
       "optimizer_09999.pt:   0%|          | 0.00/996M [00:00<?, ?B/s]"
      ]
     },
     "metadata": {},
     "output_type": "display_data"
    }
   ],
   "source": [
    "from huggingface_hub import HfApi, login\n",
    "\n",
    "# Login to Hugging Face (you'll need an access token)\n",
    "login()  # You can also use login(token=\"your_token_here\")\n",
    "\n",
    "# Initialize the API\n",
    "api = HfApi()\n",
    "\n",
    "for model_pt_path in [\n",
    "    \"unselective_run_0/model_09999.pt\",\n",
    "    \"selective_run_0/model_05000.pt\",\n",
    "    \"selective_run_0_continued/model_09999.pt\",\n",
    "    \"memory_loss_run_0/model_09999.pt\",\n",
    "]:\n",
    "\n",
    "    dirname = \"/\".join(model_pt_path.split(\"/\")[:-1])\n",
    "    file_paths = [\n",
    "        model_pt_path,\n",
    "        model_pt_path.replace(\"model\", \"dataloader\"),\n",
    "        model_pt_path.replace(\"model\", \"optimizer\"),\n",
    "        dirname+\"/log2.txt\"\n",
    "    ]\n",
    "    for file_path in file_paths:\n",
    "        api.upload_file(\n",
    "            path_or_fileobj=file_path,    # Local path to your .pt file\n",
    "            path_in_repo=file_path,                      # Desired path in the repo\n",
    "            repo_id=\"andrew-healey/context-compression\",       # Format: username/repo-name\n",
    "            repo_type=\"model\",                            # Can be 'model', 'dataset', or 'space'\n",
    "        )"
   ]
  }
 ],
 "metadata": {
  "kernelspec": {
   "display_name": "Python 3",
   "language": "python",
   "name": "python3"
  },
  "language_info": {
   "codemirror_mode": {
    "name": "ipython",
    "version": 3
   },
   "file_extension": ".py",
   "mimetype": "text/x-python",
   "name": "python",
   "nbconvert_exporter": "python",
   "pygments_lexer": "ipython3",
   "version": "3.11.6"
  }
 },
 "nbformat": 4,
 "nbformat_minor": 2
}
